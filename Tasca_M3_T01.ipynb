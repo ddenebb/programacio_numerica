{
  "nbformat": 4,
  "nbformat_minor": 0,
  "metadata": {
    "colab": {
      "provenance": [],
      "authorship_tag": "ABX9TyPvLvCGvhydpM6YiAPK+Moo",
      "include_colab_link": true
    },
    "kernelspec": {
      "name": "python3",
      "display_name": "Python 3"
    },
    "language_info": {
      "name": "python"
    }
  },
  "cells": [
    {
      "cell_type": "markdown",
      "metadata": {
        "id": "view-in-github",
        "colab_type": "text"
      },
      "source": [
        "<a href=\"https://colab.research.google.com/github/ddenebb/programacio_numerica/blob/main/Tasca_M3_T01.ipynb\" target=\"_parent\"><img src=\"https://colab.research.google.com/assets/colab-badge.svg\" alt=\"Open In Colab\"/></a>"
      ]
    },
    {
      "cell_type": "markdown",
      "source": [
        "### Exercise 1\n",
        "\n",
        "Create a function that, given a one-dimensional Array, gives you a basic statistical summary of the data. If it detects that the array has more than one dimension, it must display an error message."
      ],
      "metadata": {
        "id": "57lKhB28LwI3"
      }
    },
    {
      "cell_type": "code",
      "execution_count": null,
      "metadata": {
        "colab": {
          "base_uri": "https://localhost:8080/"
        },
        "id": "dIGJt88RLfeF",
        "outputId": "347c3f17-d946-417c-8247-86e927cd89d0"
      },
      "outputs": [
        {
          "output_type": "stream",
          "name": "stdout",
          "text": [
            "[ 6.5  3.6  2.5 10.1  7.3]\n",
            "1\n",
            "Average value is 6.0\n",
            "Median value is 6.5\n",
            "Min value is 2.5\n",
            "Max value is 10.1\n",
            "Standard deviation is 2.711457172813172\n",
            "\n",
            "[[ 1  2  3  4]\n",
            " [ 5  6  7  8]\n",
            " [ 9 10 11 12]]\n",
            "2\n",
            "Error: array is not 1D\n"
          ]
        }
      ],
      "source": [
        "import numpy as np\n",
        "arr_1D = np.array([6.5,3.6,2.5,10.1,7.3 ])\n",
        "arr_2D = np.array([[1, 2, 3, 4], [5, 6, 7, 8], [9, 10, 11, 12]])\n",
        "\n",
        "def stat_summary(arr):\n",
        "  print(arr)\n",
        "  print(arr.ndim)\n",
        "  if arr.ndim == 1:\n",
        "    print(\"Average value is\", np.mean(arr))\n",
        "    print(\"Median value is\", np.median(arr))\n",
        "    print(\"Min value is\", np.min(arr))\n",
        "    print(\"Max value is\", np.max(arr))\n",
        "    print(\"Standard deviation is\",np.std(arr))\n",
        "  else:\n",
        "    print(\"Error: array is not 1D\")\n",
        "\n",
        "\n",
        "stat_summary(arr_1D)\n",
        "print()\n",
        "stat_summary(arr_2D)"
      ]
    },
    {
      "cell_type": "markdown",
      "source": [
        "### Exercise 2\n",
        "\n",
        "Create a function that generates an NxN square of random numbers between 0 and 100."
      ],
      "metadata": {
        "id": "I_79hKj8LjjQ"
      }
    },
    {
      "cell_type": "code",
      "source": [
        "import numpy as np\n",
        "from random import randint\n",
        "\n",
        "def matrix_n_times_n(n):\n",
        "  matrix= np.random.randint(0,100,size = (n,n))\n",
        "  return matrix\n",
        "\n",
        "print(matrix_n_times_n(8))"
      ],
      "metadata": {
        "colab": {
          "base_uri": "https://localhost:8080/"
        },
        "id": "Dc71h1xkiPMQ",
        "outputId": "916d5d73-abaa-4e73-cd73-752cd969c1e3"
      },
      "execution_count": null,
      "outputs": [
        {
          "output_type": "stream",
          "name": "stdout",
          "text": [
            "[[11 59 38 45 37  6 17 28]\n",
            " [17 51 55 15 28 32 76 56]\n",
            " [50 33 93 34 15 55  3 92]\n",
            " [84 76 91 58 47 36 47 63]\n",
            " [86 26  4 28 59 58 95 17]\n",
            " [39 46 97  1 14  5 37 69]\n",
            " [94 66 52 65 14 47 31 49]\n",
            " [ 6 55 55 97  1 42 60 94]]\n"
          ]
        }
      ]
    },
    {
      "cell_type": "markdown",
      "source": [
        "### Exercise 3\n",
        "\n",
        "Create a function that, given a two-dimensional table (NxM), calculates the totals per row and the totals per column."
      ],
      "metadata": {
        "id": "A6SpKCvJMGKV"
      }
    },
    {
      "cell_type": "code",
      "source": [],
      "metadata": {
        "id": "qaZ0RjbalM73"
      },
      "execution_count": null,
      "outputs": []
    },
    {
      "cell_type": "code",
      "source": [],
      "metadata": {
        "id": "wFRDqNCMlNQJ"
      },
      "execution_count": null,
      "outputs": []
    },
    {
      "cell_type": "code",
      "source": [
        "import numpy as np\n",
        "\n",
        "def table_calc(table_a):\n",
        "  rows= len(table_a)\n",
        "  columns = len(table_a[0])\n",
        "\n",
        "  for i in range(rows):\n",
        "      addition = np.sum(table_a, axis = 0)\n",
        "      new_row = np.append([], addition)\n",
        "      \n",
        "  for j in range(columns):\n",
        "      addition = np.sum(table_a, axis = 1)\n",
        "\n",
        "  new_column = np.append([], addition)\n",
        "\n",
        "  #new_row_total = np.sum(new_row)\n",
        "\n",
        "  #totals_row = np.append(new_row, [new_row_total])\n",
        "\n",
        "  #new_column_matrix = np.hstack((table_a,new_column[:,None]))\n",
        "\n",
        "  #final_matrix = np.vstack((new_column_matrix,totals_row[:None]))\n",
        "\n",
        "  #print(final_matrix.ndim)\n",
        "  #print(final_matrix)\n",
        "  print(\"Totals for rows are:\", new_column)\n",
        "  print(\"Totals for columns are:\", new_row)\n",
        "  \n",
        "\n",
        "table_a = np.arange(45).reshape(5,9)\n",
        "table_calc(table_a)"
      ],
      "metadata": {
        "id": "JJd8bYpwMGr1",
        "colab": {
          "base_uri": "https://localhost:8080/"
        },
        "outputId": "41a717e1-0354-4558-c890-1267db17a0cf"
      },
      "execution_count": null,
      "outputs": [
        {
          "output_type": "stream",
          "name": "stdout",
          "text": [
            "Totals for rows are: [ 36. 117. 198. 279. 360.]\n",
            "Totals for columns are: [ 90.  95. 100. 105. 110. 115. 120. 125. 130.]\n"
          ]
        }
      ]
    },
    {
      "cell_type": "markdown",
      "source": [
        "Exercise 4\n",
        "\n",
        "Manually implement a function that calculates the correlation coefficient. Learn about its uses and interpretation."
      ],
      "metadata": {
        "id": "EeMwmVwcw-rk"
      }
    },
    {
      "cell_type": "code",
      "source": [
        "import numpy as np\n",
        "import matplotlib.pyplot as plt\n",
        "\n",
        "# function that returns correlation coefficient.\n",
        "def correlationCoefficient(X, Y, n) :\n",
        "\tsum_X = 0\n",
        "\tsum_Y = 0\n",
        "\tsum_XY = 0\n",
        "\tsquareSum_X = 0\n",
        "\tsquareSum_Y = 0\n",
        "\t\n",
        "\t\n",
        "\ti = 0\n",
        "\twhile i < n :\n",
        "\t\t# sum of elements of array X.\n",
        "\t\tsum_X = sum_X + X[i]\n",
        "    \n",
        "\t\t\n",
        "\t\t# sum of elements of array Y.\n",
        "\t\tsum_Y = sum_Y + Y[i]\n",
        "  \n",
        "\t\t# sum of X[i] * Y[i].\n",
        "\t\tsum_XY = sum_XY + X[i] * Y[i]\n",
        "  \n",
        "\t\t# sum of square of array elements.\n",
        "\t\tsquareSum_X = squareSum_X + X[i] * X[i]\n",
        "\t\tsquareSum_Y = squareSum_Y + Y[i] * Y[i]\n",
        "  \n",
        "\t\ti = i + 1\n",
        "\t\n",
        "\t# use formula for calculating correlation\n",
        "\t# coefficient.\n",
        "\tcorr = (float)(n * sum_XY - sum_X * sum_Y)/(float)(np.sqrt((n * squareSum_X - sum_X * sum_X)* \n",
        "                    (n * squareSum_Y - sum_Y * sum_Y)))\n",
        "\treturn corr\n",
        "\t\n",
        "# Driver function\n",
        "X = np.array([80, 85, 90, 95, 100, 105, 110, 115, 120, 125])\n",
        "Y = np.array([120, 130, 145, 155, 190, 220, 250, 280, 300, 310])\n",
        "\t\n",
        "# Find the size of array.\n",
        "n = len(X)\n",
        "print()\n",
        "\n",
        "# Function call to correlationCoefficient.\n",
        "print ('{0:.6f}'.format(correlationCoefficient(X, Y, n)))\n",
        "\n",
        "plt.scatter(X, Y, marker = 'o',alpha=0.5)\n",
        "plt.xlabel(\"Average Pulse\")\n",
        "plt.ylabel(\"Calorie Burnage\")\n",
        "plt.grid()\n",
        "plt.show()\n",
        "\n",
        "\n"
      ],
      "metadata": {
        "colab": {
          "base_uri": "https://localhost:8080/",
          "height": 315
        },
        "id": "u8RhQ1NUw80M",
        "outputId": "e2fe1f89-ecf8-4e6d-cdc0-c084f1c429ee"
      },
      "execution_count": 62,
      "outputs": [
        {
          "output_type": "stream",
          "name": "stdout",
          "text": [
            "\n",
            "0.989322\n"
          ]
        },
        {
          "output_type": "display_data",
          "data": {
            "text/plain": [
              "<Figure size 432x288 with 1 Axes>"
            ],
            "image/png": "[encoded data removed]"
          },
          "metadata": {
            "needs_background": "light"
          }
        }
      ]
    },
    {
      "cell_type": "code",
      "source": [],
      "metadata": {
        "id": "K98Ybgwz_Ik2"
      },
      "execution_count": null,
      "outputs": []
    },
    {
      "cell_type": "code",
      "source": [],
      "metadata": {
        "id": "BTOGlmU6_JDW"
      },
      "execution_count": null,
      "outputs": []
    },
    {
      "cell_type": "code",
      "source": [],
      "metadata": {
        "id": "NThV5Sg1_JdP"
      },
      "execution_count": null,
      "outputs": []
    },
    {
      "cell_type": "markdown",
      "source": [],
      "metadata": {
        "id": "kOhF4CTBMHV-"
      }
    }
  ]
}