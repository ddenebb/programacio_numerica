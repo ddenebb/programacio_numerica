{
  "nbformat": 4,
  "nbformat_minor": 0,
  "metadata": {
    "colab": {
      "provenance": [],
      "authorship_tag": "ABX9TyN501q4bvaHZKItBC2U2uxb",
      "include_colab_link": true
    },
    "kernelspec": {
      "name": "python3",
      "display_name": "Python 3"
    },
    "language_info": {
      "name": "python"
    }
  },
  "cells": [
    {
      "cell_type": "markdown",
      "metadata": {
        "id": "view-in-github",
        "colab_type": "text"
      },
      "source": [
        "<a href=\"https://colab.research.google.com/github/ddenebb/programacio_numerica/blob/main/Tasca_M3_T02.ipynb\" target=\"_parent\"><img src=\"https://colab.research.google.com/assets/colab-badge.svg\" alt=\"Open In Colab\"/></a>"
      ]
    },
    {
      "cell_type": "markdown",
      "source": [
        "### Exercise 1\n",
        "\n",
        "Download the data set Airlines Delay: Airline on-time statistics and delay causes and load it into a Pandas Dataframe. Explore the data it contains, briefly explain which variables are there and stick only to the columns you consider relevant. Justify your choice."
      ],
      "metadata": {
        "id": "nzCr0IYzI_UY"
      }
    },
    {
      "cell_type": "markdown",
      "source": [
        "Interesting article:\n",
        "https://towardsdatascience.com/performing-data-analytics-on-the-flights-delay-dataset-using-the-polars-library-284f385cc497"
      ],
      "metadata": {
        "id": "kqEZj1kZdHh2"
      }
    },
    {
      "cell_type": "code",
      "execution_count": 27,
      "metadata": {
        "colab": {
          "base_uri": "https://localhost:8080/",
          "height": 383
        },
        "id": "HwxcnVdFIzs7",
        "outputId": "ea0b119a-6dbb-45ee-abda-0de947933e1c"
      },
      "outputs": [
        {
          "output_type": "error",
          "ename": "ComputeError",
          "evalue": "ignored",
          "traceback": [
            "\u001b[0;31m---------------------------------------------------------------------------\u001b[0m",
            "\u001b[0;31mComputeError\u001b[0m                              Traceback (most recent call last)",
            "\u001b[0;32m<ipython-input-27-852557529631>\u001b[0m in \u001b[0;36m<module>\u001b[0;34m\u001b[0m\n\u001b[1;32m     21\u001b[0m     \u001b[0;34m.\u001b[0m\u001b[0mfilter\u001b[0m\u001b[0;34m(\u001b[0m\u001b[0;34m(\u001b[0m\u001b[0mpl\u001b[0m\u001b[0;34m.\u001b[0m\u001b[0mcol\u001b[0m\u001b[0;34m(\u001b[0m\u001b[0;34m'Diverted'\u001b[0m\u001b[0;34m)\u001b[0m \u001b[0;34m!=\u001b[0m \u001b[0;34m'null'\u001b[0m\u001b[0;34m)\u001b[0m\u001b[0;34m)\u001b[0m\u001b[0;34m\u001b[0m\u001b[0;34m\u001b[0m\u001b[0m\n\u001b[1;32m     22\u001b[0m )\n\u001b[0;32m---> 23\u001b[0;31m \u001b[0mq\u001b[0m\u001b[0;34m.\u001b[0m\u001b[0mcollect\u001b[0m\u001b[0;34m(\u001b[0m\u001b[0;34m)\u001b[0m\u001b[0;34m\u001b[0m\u001b[0;34m\u001b[0m\u001b[0m\n\u001b[0m\u001b[1;32m     24\u001b[0m \u001b[0;34m\u001b[0m\u001b[0m\n\u001b[1;32m     25\u001b[0m \u001b[0;34m\u001b[0m\u001b[0m\n",
            "\u001b[0;32m/usr/local/lib/python3.7/dist-packages/polars/internals/lazyframe/frame.py\u001b[0m in \u001b[0;36mcollect\u001b[0;34m(self, type_coercion, predicate_pushdown, projection_pushdown, simplify_expression, string_cache, no_optimization, slice_pushdown, common_subplan_elimination, allow_streaming)\u001b[0m\n\u001b[1;32m   1037\u001b[0m             \u001b[0mallow_streaming\u001b[0m\u001b[0;34m,\u001b[0m\u001b[0;34m\u001b[0m\u001b[0;34m\u001b[0m\u001b[0m\n\u001b[1;32m   1038\u001b[0m         )\n\u001b[0;32m-> 1039\u001b[0;31m         \u001b[0;32mreturn\u001b[0m \u001b[0mpli\u001b[0m\u001b[0;34m.\u001b[0m\u001b[0mwrap_df\u001b[0m\u001b[0;34m(\u001b[0m\u001b[0mldf\u001b[0m\u001b[0;34m.\u001b[0m\u001b[0mcollect\u001b[0m\u001b[0;34m(\u001b[0m\u001b[0;34m)\u001b[0m\u001b[0;34m)\u001b[0m\u001b[0;34m\u001b[0m\u001b[0;34m\u001b[0m\u001b[0m\n\u001b[0m\u001b[1;32m   1040\u001b[0m \u001b[0;34m\u001b[0m\u001b[0m\n\u001b[1;32m   1041\u001b[0m     def fetch(\n",
            "\u001b[0;31mComputeError\u001b[0m: cannot compare Utf8 with numeric data"
          ]
        }
      ],
      "source": [
        "import pandas as pd\n",
        "import matplotlib.pyplot as plt\n",
        "import polars as pl\n",
        "\n",
        "path = \"/content/drive/MyDrive/Google Colab DS IT Academy/Sprint 3/data/DelayedFlights.csv\"\n",
        "df = pd.read_csv(path)\n",
        "\n",
        "q = (\n",
        "    pl.scan_csv(path)\n",
        ")\n",
        "q.collect()\n",
        "\n",
        "q = (\n",
        "    pl.scan_csv(path)\n",
        "    .select(pl.col('CarrierDelay').unique())\n",
        ")\n",
        "q.collect()\n",
        "\n",
        "q = (\n",
        "    pl.scan_csv(path)\n",
        "    .filter((pl.col('Diverted') != 'null'))\n",
        ")\n",
        "q.collect()\n",
        "\n",
        "\n",
        "\n",
        "#df\n",
        "#df['Diverted'].plot()\n",
        "#df['Cancelled'].plot()\n",
        "#df['DepTime'].plot()\n",
        "#df['Diverted'].plot(figsize=(15, 10))\n",
        "#plt.show()"
      ]
    }
  ]
}